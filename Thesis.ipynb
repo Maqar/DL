{
  "nbformat": 4,
  "nbformat_minor": 0,
  "metadata": {
    "colab": {
      "name": "Thesis2.ipynb",
      "provenance": [],
      "collapsed_sections": [],
      "include_colab_link": true
    },
    "kernelspec": {
      "display_name": "Python 3",
      "language": "python",
      "name": "python3"
    },
    "language_info": {
      "codemirror_mode": {
        "name": "ipython",
        "version": 3
      },
      "file_extension": ".py",
      "mimetype": "text/x-python",
      "name": "python",
      "nbconvert_exporter": "python",
      "pygments_lexer": "ipython3",
      "version": "3.8.10"
    },
    "accelerator": "GPU"
  },
  "cells": [
    {
      "cell_type": "markdown",
      "metadata": {
        "id": "view-in-github",
        "colab_type": "text"
      },
      "source": [
        "<a href=\"https://colab.research.google.com/github/Maqar/DL/blob/main/Thesis.ipynb\" target=\"_parent\"><img src=\"https://colab.research.google.com/assets/colab-badge.svg\" alt=\"Open In Colab\"/></a>"
      ]
    },
    {
      "cell_type": "code",
      "metadata": {
        "id": "z5TERmJWVcxY",
        "colab": {
          "base_uri": "https://localhost:8080/"
        },
        "outputId": "ef3cf90f-b47b-4197-8e6b-3a9ae54185c2"
      },
      "source": [
        "!pip install transformers"
      ],
      "execution_count": 2,
      "outputs": [
        {
          "output_type": "stream",
          "name": "stdout",
          "text": [
            "Collecting transformers\n",
            "  Downloading transformers-4.10.2-py3-none-any.whl (2.8 MB)\n",
            "\u001b[K     |████████████████████████████████| 2.8 MB 5.1 MB/s \n",
            "\u001b[?25hCollecting sacremoses\n",
            "  Downloading sacremoses-0.0.45-py3-none-any.whl (895 kB)\n",
            "\u001b[K     |████████████████████████████████| 895 kB 34.3 MB/s \n",
            "\u001b[?25hRequirement already satisfied: tqdm>=4.27 in /usr/local/lib/python3.7/dist-packages (from transformers) (4.62.0)\n",
            "Collecting huggingface-hub>=0.0.12\n",
            "  Downloading huggingface_hub-0.0.16-py3-none-any.whl (50 kB)\n",
            "\u001b[K     |████████████████████████████████| 50 kB 6.5 MB/s \n",
            "\u001b[?25hRequirement already satisfied: numpy>=1.17 in /usr/local/lib/python3.7/dist-packages (from transformers) (1.19.5)\n",
            "Requirement already satisfied: filelock in /usr/local/lib/python3.7/dist-packages (from transformers) (3.0.12)\n",
            "Requirement already satisfied: requests in /usr/local/lib/python3.7/dist-packages (from transformers) (2.23.0)\n",
            "Collecting pyyaml>=5.1\n",
            "  Downloading PyYAML-5.4.1-cp37-cp37m-manylinux1_x86_64.whl (636 kB)\n",
            "\u001b[K     |████████████████████████████████| 636 kB 45.8 MB/s \n",
            "\u001b[?25hCollecting tokenizers<0.11,>=0.10.1\n",
            "  Downloading tokenizers-0.10.3-cp37-cp37m-manylinux_2_5_x86_64.manylinux1_x86_64.manylinux_2_12_x86_64.manylinux2010_x86_64.whl (3.3 MB)\n",
            "\u001b[K     |████████████████████████████████| 3.3 MB 39.0 MB/s \n",
            "\u001b[?25hRequirement already satisfied: importlib-metadata in /usr/local/lib/python3.7/dist-packages (from transformers) (4.6.4)\n",
            "Requirement already satisfied: regex!=2019.12.17 in /usr/local/lib/python3.7/dist-packages (from transformers) (2019.12.20)\n",
            "Requirement already satisfied: packaging in /usr/local/lib/python3.7/dist-packages (from transformers) (21.0)\n",
            "Requirement already satisfied: typing-extensions in /usr/local/lib/python3.7/dist-packages (from huggingface-hub>=0.0.12->transformers) (3.7.4.3)\n",
            "Requirement already satisfied: pyparsing>=2.0.2 in /usr/local/lib/python3.7/dist-packages (from packaging->transformers) (2.4.7)\n",
            "Requirement already satisfied: zipp>=0.5 in /usr/local/lib/python3.7/dist-packages (from importlib-metadata->transformers) (3.5.0)\n",
            "Requirement already satisfied: urllib3!=1.25.0,!=1.25.1,<1.26,>=1.21.1 in /usr/local/lib/python3.7/dist-packages (from requests->transformers) (1.24.3)\n",
            "Requirement already satisfied: idna<3,>=2.5 in /usr/local/lib/python3.7/dist-packages (from requests->transformers) (2.10)\n",
            "Requirement already satisfied: certifi>=2017.4.17 in /usr/local/lib/python3.7/dist-packages (from requests->transformers) (2021.5.30)\n",
            "Requirement already satisfied: chardet<4,>=3.0.2 in /usr/local/lib/python3.7/dist-packages (from requests->transformers) (3.0.4)\n",
            "Requirement already satisfied: six in /usr/local/lib/python3.7/dist-packages (from sacremoses->transformers) (1.15.0)\n",
            "Requirement already satisfied: click in /usr/local/lib/python3.7/dist-packages (from sacremoses->transformers) (7.1.2)\n",
            "Requirement already satisfied: joblib in /usr/local/lib/python3.7/dist-packages (from sacremoses->transformers) (1.0.1)\n",
            "Installing collected packages: tokenizers, sacremoses, pyyaml, huggingface-hub, transformers\n",
            "  Attempting uninstall: pyyaml\n",
            "    Found existing installation: PyYAML 3.13\n",
            "    Uninstalling PyYAML-3.13:\n",
            "      Successfully uninstalled PyYAML-3.13\n",
            "Successfully installed huggingface-hub-0.0.16 pyyaml-5.4.1 sacremoses-0.0.45 tokenizers-0.10.3 transformers-4.10.2\n"
          ]
        }
      ]
    },
    {
      "cell_type": "code",
      "metadata": {
        "id": "IWxz78LyVRVe"
      },
      "source": [
        "import transformers"
      ],
      "execution_count": null,
      "outputs": []
    },
    {
      "cell_type": "code",
      "metadata": {
        "id": "_Gf5BqHLVRVg"
      },
      "source": [
        "transformers.__version__"
      ],
      "execution_count": null,
      "outputs": []
    },
    {
      "cell_type": "code",
      "metadata": {
        "id": "RXjN-WnWVRVi"
      },
      "source": [
        "import numpy as np\n",
        "from scipy.spatial import distance\n",
        "import pandas as pd\n",
        "import networkx as nx\n",
        "import torch\n",
        "import torchvision\n",
        "import torchvision.transforms as transforms\n",
        "from PIL import Image\n",
        "import requests\n",
        "from tqdm.auto import tqdm\n",
        "from sklearn.metrics import classification_report"
      ],
      "execution_count": 3,
      "outputs": []
    },
    {
      "cell_type": "code",
      "metadata": {
        "id": "CXY8xVWhwO46"
      },
      "source": [
        "from transformers import ViTFeatureExtractor, ViTForImageClassification, ViTModel"
      ],
      "execution_count": 4,
      "outputs": []
    },
    {
      "cell_type": "code",
      "metadata": {
        "colab": {
          "base_uri": "https://localhost:8080/"
        },
        "id": "jln07qT9VRVj",
        "outputId": "3378ab75-bbe3-4bc2-9e0e-5f9a5364617a"
      },
      "source": [
        "# transform = transforms.Compose(\n",
        "#      [\n",
        "#         transforms.Resize((224, 224)),\n",
        "#         transforms.ToTensor(),\n",
        "#         transforms.Normalize((0.5, 0.5, 0.5), (0.5, 0.5, 0.5))\n",
        "#      ])\n",
        "\n",
        "batch_size = 500\n",
        "\n",
        "trainset = torchvision.datasets.CIFAR10(root='./data', train=True,\n",
        "                                        download=True)\n",
        "# trainloader = torch.utils.data.DataLoader(trainset, batch_size=batch_size,\n",
        "#                                           shuffle=True)\n",
        "\n",
        "testset = torchvision.datasets.CIFAR10(root='./data', train=False,\n",
        "                                       download=True)\n",
        "# testloader = torch.utils.data.DataLoader(testset, batch_size=batch_size,\n",
        "#                                          shuffle=False, num_workers=4)\n",
        "\n",
        "classes = ('plane', 'car', 'bird', 'cat',\n",
        "           'deer', 'dog', 'frog', 'horse', 'ship', 'truck')"
      ],
      "execution_count": 19,
      "outputs": [
        {
          "output_type": "stream",
          "name": "stdout",
          "text": [
            "Files already downloaded and verified\n",
            "Files already downloaded and verified\n"
          ]
        }
      ]
    },
    {
      "cell_type": "code",
      "metadata": {
        "id": "fAc6oAY3U5Mm"
      },
      "source": [
        "feature_extractor = ViTFeatureExtractor.from_pretrained('nateraw/vit-base-patch16-224-cifar10', do_normalize=True, do_resize=True)\n",
        "model = ViTForImageClassification.from_pretrained('nateraw/vit-base-patch16-224-cifar10', output_hidden_states = True)\n",
        "model.eval();"
      ],
      "execution_count": 21,
      "outputs": []
    },
    {
      "cell_type": "code",
      "metadata": {
        "colab": {
          "base_uri": "https://localhost:8080/"
        },
        "id": "SxTLgSHQbrnq",
        "outputId": "835e0c78-ffc6-46b2-df84-4d2fef0d4720"
      },
      "source": [
        "model_feature = ViTModel.from_pretrained('nateraw/vit-base-patch16-224-cifar10')\n",
        "model_feature.eval();"
      ],
      "execution_count": 7,
      "outputs": [
        {
          "output_type": "stream",
          "name": "stderr",
          "text": [
            "Some weights of the model checkpoint at nateraw/vit-base-patch16-224-cifar10 were not used when initializing ViTModel: ['classifier.weight', 'classifier.bias']\n",
            "- This IS expected if you are initializing ViTModel from the checkpoint of a model trained on another task or with another architecture (e.g. initializing a BertForSequenceClassification model from a BertForPreTraining model).\n",
            "- This IS NOT expected if you are initializing ViTModel from the checkpoint of a model that you expect to be exactly identical (initializing a BertForSequenceClassification model from a BertForSequenceClassification model).\n",
            "Some weights of ViTModel were not initialized from the model checkpoint at nateraw/vit-base-patch16-224-cifar10 and are newly initialized: ['vit.pooler.dense.bias', 'vit.pooler.dense.weight']\n",
            "You should probably TRAIN this model on a down-stream task to be able to use it for predictions and inference.\n"
          ]
        }
      ]
    },
    {
      "cell_type": "markdown",
      "metadata": {
        "id": "kE_e0RfJVRVk"
      },
      "source": [
        "# Check accuracy on test set"
      ]
    },
    {
      "cell_type": "code",
      "metadata": {
        "id": "HyZkOHWPVRVl"
      },
      "source": [
        "pred = []\n",
        "true = []\n",
        "\n",
        "i = 0\n",
        "\n",
        "with torch.no_grad(): \n",
        "    for x, y in tqdm(testset):\n",
        "        true.append(y)\n",
        "        model_input = feature_extractor(images=np.array(x), return_tensors=\"pt\")\n",
        "        output = model(**model_input)\n",
        "        logits = output.logits\n",
        "        predicted_class_idx = logits.argmax(-1).item()\n",
        "\n",
        "        pred.append(predicted_class_idx)\n",
        "        \n",
        "        #i += 1\n",
        "        \n",
        "        #if i > 100:\n",
        "            #break\n",
        "            \n",
        "print(classification_report(true, pred))"
      ],
      "execution_count": null,
      "outputs": []
    },
    {
      "cell_type": "markdown",
      "metadata": {
        "id": "wkIvVQAjrUVl"
      },
      "source": [
        "Получаем признаки картинок из модели\n"
      ]
    },
    {
      "cell_type": "code",
      "metadata": {
        "id": "mHbapwSldsk6"
      },
      "source": [
        "  feat = []\n",
        "  target = []\n",
        "\n",
        "  with torch.no_grad():\n",
        "      for x, y in tqdm(trainloader):\n",
        "          # calculate outputs by running images through the network\n",
        "          target.append(y)\n",
        "          # output = model_feature(x)\n",
        "          input = feature_extractor(x, return_tensors=\"pt\")\n",
        "          output = model_feature(**input)\n",
        "          feat.append(output[1][0])\n",
        "\n"
      ],
      "execution_count": null,
      "outputs": []
    },
    {
      "cell_type": "markdown",
      "metadata": {
        "id": "RyIDsC5hr2MI"
      },
      "source": [
        "Делаем словарь {label: усредненный вектор}"
      ]
    },
    {
      "cell_type": "code",
      "metadata": {
        "id": "kMNfWi_WY3eI"
      },
      "source": [
        "# def func(target):\n",
        "\n",
        "#     l = []\n",
        "#     c = 0\n",
        "\n",
        "#     with torch.no_grad():\n",
        "#         for i in range(len(trainset)):\n",
        "#             if trainset[i][1] == target:\n",
        "\n",
        "#                 image = trainset[i][0]\n",
        "#                 inputs = feature_extractor(images = np.array(image), return_tensors=\"pt\")\n",
        "#                 y = model_feature(**inputs)\n",
        "\n",
        "#                 if c == 0:\n",
        "#                     l = y[1][0]\n",
        "#                 else:\n",
        "#                     l += y[1][0]\n",
        "#                 c += 1\n",
        "#                 print(c)\n",
        "\n",
        "# return l/5000\n"
      ],
      "execution_count": null,
      "outputs": []
    },
    {
      "cell_type": "code",
      "metadata": {
        "id": "OyWBDKzSvHWX"
      },
      "source": [
        "#Создание матрицы смежности и графа"
      ],
      "execution_count": null,
      "outputs": []
    },
    {
      "cell_type": "code",
      "metadata": {
        "id": "0ZR4zpUfK1s_"
      },
      "source": [
        "#находим косинусное расстояние\n",
        "cos_dist_matrix = distance.cdist(LIST, LIST, 'cosine') #LIST набор усредненных векторов классов\n",
        "#находим среднее (не учитываем 0)\n",
        "mean = np.mean(np.true_divide(cos_dist_matrix.sum(1),(cos_dist_matrix > 0.01).sum(1)))\n",
        "#преобразуем в матрицу смежности\n",
        "m = np.where(cos_dist_matrix > mean, 1, 0)"
      ],
      "execution_count": null,
      "outputs": []
    },
    {
      "cell_type": "code",
      "metadata": {
        "colab": {
          "base_uri": "https://localhost:8080/",
          "height": 319
        },
        "id": "kRxH_2cFcT2Y",
        "outputId": "d6cbf447-f606-4b6f-a782-3723c3cfb16a"
      },
      "source": [
        "#создаем граф смежности\n",
        "M = pd.DataFrame(m, index=classes, columns=classes)\n",
        "\n",
        "G = nx.from_pandas_adjacency(M)\n",
        "\n",
        "nx.draw_circular(G,\n",
        "         node_color='red',\n",
        "         node_size=1000,\n",
        "         with_labels=True)"
      ],
      "execution_count": null,
      "outputs": [
        {
          "output_type": "display_data",
          "data": {
            "image/png": "[encoded data removed]",
            "text/plain": [
              "<Figure size 432x288 with 1 Axes>"
            ]
          },
          "metadata": {}
        }
      ]
    }
  ]
}